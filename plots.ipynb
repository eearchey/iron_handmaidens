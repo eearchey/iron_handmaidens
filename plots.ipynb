{
 "cells": [
  {
   "cell_type": "markdown",
   "metadata": {},
   "source": [
    "# Show the data"
   ]
  },
  {
   "cell_type": "code",
   "execution_count": 2,
   "metadata": {},
   "outputs": [],
   "source": [
    "import scipy.io\n",
    "import pandas as pd\n",
    "import matplotlib.pyplot as plt"
   ]
  },
  {
   "cell_type": "code",
   "execution_count": 3,
   "metadata": {},
   "outputs": [
    {
     "data": {
      "text/html": [
       "<div>\n",
       "<style scoped>\n",
       "    .dataframe tbody tr th:only-of-type {\n",
       "        vertical-align: middle;\n",
       "    }\n",
       "\n",
       "    .dataframe tbody tr th {\n",
       "        vertical-align: top;\n",
       "    }\n",
       "\n",
       "    .dataframe thead th {\n",
       "        text-align: right;\n",
       "    }\n",
       "</style>\n",
       "<table border=\"1\" class=\"dataframe\">\n",
       "  <thead>\n",
       "    <tr style=\"text-align: right;\">\n",
       "      <th></th>\n",
       "      <th>Timestamp_5470</th>\n",
       "      <th>Status_5470</th>\n",
       "      <th>CH1_5470</th>\n",
       "      <th>CH2_5470</th>\n",
       "      <th>Event_5470</th>\n",
       "    </tr>\n",
       "  </thead>\n",
       "  <tbody>\n",
       "    <tr>\n",
       "      <th>0</th>\n",
       "      <td>1.635975e+12</td>\n",
       "      <td>128.0</td>\n",
       "      <td>0.150133</td>\n",
       "      <td>2.941000</td>\n",
       "      <td>0.0</td>\n",
       "    </tr>\n",
       "    <tr>\n",
       "      <th>1</th>\n",
       "      <td>1.635975e+12</td>\n",
       "      <td>128.0</td>\n",
       "      <td>0.128256</td>\n",
       "      <td>2.938235</td>\n",
       "      <td>-1.0</td>\n",
       "    </tr>\n",
       "    <tr>\n",
       "      <th>2</th>\n",
       "      <td>1.635975e+12</td>\n",
       "      <td>128.0</td>\n",
       "      <td>0.094119</td>\n",
       "      <td>2.935110</td>\n",
       "      <td>-1.0</td>\n",
       "    </tr>\n",
       "    <tr>\n",
       "      <th>3</th>\n",
       "      <td>1.635975e+12</td>\n",
       "      <td>128.0</td>\n",
       "      <td>0.090873</td>\n",
       "      <td>2.929701</td>\n",
       "      <td>-1.0</td>\n",
       "    </tr>\n",
       "    <tr>\n",
       "      <th>4</th>\n",
       "      <td>1.635975e+12</td>\n",
       "      <td>128.0</td>\n",
       "      <td>0.092436</td>\n",
       "      <td>2.948813</td>\n",
       "      <td>-1.0</td>\n",
       "    </tr>\n",
       "    <tr>\n",
       "      <th>...</th>\n",
       "      <td>...</td>\n",
       "      <td>...</td>\n",
       "      <td>...</td>\n",
       "      <td>...</td>\n",
       "      <td>...</td>\n",
       "    </tr>\n",
       "    <tr>\n",
       "      <th>1540840</th>\n",
       "      <td>1.635976e+12</td>\n",
       "      <td>128.0</td>\n",
       "      <td>-2.207162</td>\n",
       "      <td>-1.237487</td>\n",
       "      <td>-1.0</td>\n",
       "    </tr>\n",
       "    <tr>\n",
       "      <th>1540841</th>\n",
       "      <td>1.635976e+12</td>\n",
       "      <td>128.0</td>\n",
       "      <td>-2.212331</td>\n",
       "      <td>-1.240372</td>\n",
       "      <td>-1.0</td>\n",
       "    </tr>\n",
       "    <tr>\n",
       "      <th>1540842</th>\n",
       "      <td>1.635976e+12</td>\n",
       "      <td>128.0</td>\n",
       "      <td>-2.212571</td>\n",
       "      <td>-1.244339</td>\n",
       "      <td>-1.0</td>\n",
       "    </tr>\n",
       "    <tr>\n",
       "      <th>1540843</th>\n",
       "      <td>1.635976e+12</td>\n",
       "      <td>128.0</td>\n",
       "      <td>-2.218101</td>\n",
       "      <td>-1.248906</td>\n",
       "      <td>-1.0</td>\n",
       "    </tr>\n",
       "    <tr>\n",
       "      <th>1540844</th>\n",
       "      <td>1.635976e+12</td>\n",
       "      <td>128.0</td>\n",
       "      <td>-2.215937</td>\n",
       "      <td>-1.249507</td>\n",
       "      <td>-1.0</td>\n",
       "    </tr>\n",
       "  </tbody>\n",
       "</table>\n",
       "<p>1540845 rows × 5 columns</p>\n",
       "</div>"
      ],
      "text/plain": [
       "         Timestamp_5470  Status_5470  CH1_5470  CH2_5470  Event_5470\n",
       "0          1.635975e+12        128.0  0.150133  2.941000         0.0\n",
       "1          1.635975e+12        128.0  0.128256  2.938235        -1.0\n",
       "2          1.635975e+12        128.0  0.094119  2.935110        -1.0\n",
       "3          1.635975e+12        128.0  0.090873  2.929701        -1.0\n",
       "4          1.635975e+12        128.0  0.092436  2.948813        -1.0\n",
       "...                 ...          ...       ...       ...         ...\n",
       "1540840    1.635976e+12        128.0 -2.207162 -1.237487        -1.0\n",
       "1540841    1.635976e+12        128.0 -2.212331 -1.240372        -1.0\n",
       "1540842    1.635976e+12        128.0 -2.212571 -1.244339        -1.0\n",
       "1540843    1.635976e+12        128.0 -2.218101 -1.248906        -1.0\n",
       "1540844    1.635976e+12        128.0 -2.215937 -1.249507        -1.0\n",
       "\n",
       "[1540845 rows x 5 columns]"
      ]
     },
     "execution_count": 3,
     "metadata": {},
     "output_type": "execute_result"
    }
   ],
   "source": [
    "df = pd.read_csv('Shimmer_5470.csv')\n",
    "df"
   ]
  },
  {
   "cell_type": "code",
   "execution_count": 4,
   "metadata": {},
   "outputs": [
    {
     "data": {
      "text/plain": [
       "[1635974621582.2644, 1635974621583.241]"
      ]
     },
     "execution_count": 4,
     "metadata": {},
     "output_type": "execute_result"
    }
   ],
   "source": [
    "list(df['Timestamp_5470'][0:2])"
   ]
  },
  {
   "cell_type": "code",
   "execution_count": 5,
   "metadata": {},
   "outputs": [
    {
     "data": {
      "text/plain": [
       "1504.8378994140626"
      ]
     },
     "execution_count": 5,
     "metadata": {},
     "output_type": "execute_result"
    }
   ],
   "source": [
    "(df['Timestamp_5470'].iat[-1] - df['Timestamp_5470'].iat[0]) / 1000"
   ]
  },
  {
   "cell_type": "code",
   "execution_count": 6,
   "metadata": {},
   "outputs": [
    {
     "data": {
      "text/html": [
       "<div>\n",
       "<style scoped>\n",
       "    .dataframe tbody tr th:only-of-type {\n",
       "        vertical-align: middle;\n",
       "    }\n",
       "\n",
       "    .dataframe tbody tr th {\n",
       "        vertical-align: top;\n",
       "    }\n",
       "\n",
       "    .dataframe thead th {\n",
       "        text-align: right;\n",
       "    }\n",
       "</style>\n",
       "<table border=\"1\" class=\"dataframe\">\n",
       "  <thead>\n",
       "    <tr style=\"text-align: right;\">\n",
       "      <th></th>\n",
       "      <th>Timestamp_5470</th>\n",
       "      <th>Status_5470</th>\n",
       "      <th>CH1_5470</th>\n",
       "      <th>CH2_5470</th>\n",
       "      <th>Event_5470</th>\n",
       "      <th>Time_s</th>\n",
       "    </tr>\n",
       "  </thead>\n",
       "  <tbody>\n",
       "    <tr>\n",
       "      <th>0</th>\n",
       "      <td>1.635975e+12</td>\n",
       "      <td>128.0</td>\n",
       "      <td>0.150133</td>\n",
       "      <td>2.941000</td>\n",
       "      <td>0.0</td>\n",
       "      <td>0.000000</td>\n",
       "    </tr>\n",
       "    <tr>\n",
       "      <th>1</th>\n",
       "      <td>1.635975e+12</td>\n",
       "      <td>128.0</td>\n",
       "      <td>0.128256</td>\n",
       "      <td>2.938235</td>\n",
       "      <td>-1.0</td>\n",
       "      <td>0.000977</td>\n",
       "    </tr>\n",
       "    <tr>\n",
       "      <th>2</th>\n",
       "      <td>1.635975e+12</td>\n",
       "      <td>128.0</td>\n",
       "      <td>0.094119</td>\n",
       "      <td>2.935110</td>\n",
       "      <td>-1.0</td>\n",
       "      <td>0.001953</td>\n",
       "    </tr>\n",
       "    <tr>\n",
       "      <th>3</th>\n",
       "      <td>1.635975e+12</td>\n",
       "      <td>128.0</td>\n",
       "      <td>0.090873</td>\n",
       "      <td>2.929701</td>\n",
       "      <td>-1.0</td>\n",
       "      <td>0.002930</td>\n",
       "    </tr>\n",
       "    <tr>\n",
       "      <th>4</th>\n",
       "      <td>1.635975e+12</td>\n",
       "      <td>128.0</td>\n",
       "      <td>0.092436</td>\n",
       "      <td>2.948813</td>\n",
       "      <td>-1.0</td>\n",
       "      <td>0.003906</td>\n",
       "    </tr>\n",
       "    <tr>\n",
       "      <th>...</th>\n",
       "      <td>...</td>\n",
       "      <td>...</td>\n",
       "      <td>...</td>\n",
       "      <td>...</td>\n",
       "      <td>...</td>\n",
       "      <td>...</td>\n",
       "    </tr>\n",
       "    <tr>\n",
       "      <th>1540840</th>\n",
       "      <td>1.635976e+12</td>\n",
       "      <td>128.0</td>\n",
       "      <td>-2.207162</td>\n",
       "      <td>-1.237487</td>\n",
       "      <td>-1.0</td>\n",
       "      <td>1504.726562</td>\n",
       "    </tr>\n",
       "    <tr>\n",
       "      <th>1540841</th>\n",
       "      <td>1.635976e+12</td>\n",
       "      <td>128.0</td>\n",
       "      <td>-2.212331</td>\n",
       "      <td>-1.240372</td>\n",
       "      <td>-1.0</td>\n",
       "      <td>1504.727539</td>\n",
       "    </tr>\n",
       "    <tr>\n",
       "      <th>1540842</th>\n",
       "      <td>1.635976e+12</td>\n",
       "      <td>128.0</td>\n",
       "      <td>-2.212571</td>\n",
       "      <td>-1.244339</td>\n",
       "      <td>-1.0</td>\n",
       "      <td>1504.728516</td>\n",
       "    </tr>\n",
       "    <tr>\n",
       "      <th>1540843</th>\n",
       "      <td>1.635976e+12</td>\n",
       "      <td>128.0</td>\n",
       "      <td>-2.218101</td>\n",
       "      <td>-1.248906</td>\n",
       "      <td>-1.0</td>\n",
       "      <td>1504.729492</td>\n",
       "    </tr>\n",
       "    <tr>\n",
       "      <th>1540844</th>\n",
       "      <td>1.635976e+12</td>\n",
       "      <td>128.0</td>\n",
       "      <td>-2.215937</td>\n",
       "      <td>-1.249507</td>\n",
       "      <td>-1.0</td>\n",
       "      <td>1504.730469</td>\n",
       "    </tr>\n",
       "  </tbody>\n",
       "</table>\n",
       "<p>1540845 rows × 6 columns</p>\n",
       "</div>"
      ],
      "text/plain": [
       "         Timestamp_5470  Status_5470  CH1_5470  CH2_5470  Event_5470  \\\n",
       "0          1.635975e+12        128.0  0.150133  2.941000         0.0   \n",
       "1          1.635975e+12        128.0  0.128256  2.938235        -1.0   \n",
       "2          1.635975e+12        128.0  0.094119  2.935110        -1.0   \n",
       "3          1.635975e+12        128.0  0.090873  2.929701        -1.0   \n",
       "4          1.635975e+12        128.0  0.092436  2.948813        -1.0   \n",
       "...                 ...          ...       ...       ...         ...   \n",
       "1540840    1.635976e+12        128.0 -2.207162 -1.237487        -1.0   \n",
       "1540841    1.635976e+12        128.0 -2.212331 -1.240372        -1.0   \n",
       "1540842    1.635976e+12        128.0 -2.212571 -1.244339        -1.0   \n",
       "1540843    1.635976e+12        128.0 -2.218101 -1.248906        -1.0   \n",
       "1540844    1.635976e+12        128.0 -2.215937 -1.249507        -1.0   \n",
       "\n",
       "              Time_s  \n",
       "0           0.000000  \n",
       "1           0.000977  \n",
       "2           0.001953  \n",
       "3           0.002930  \n",
       "4           0.003906  \n",
       "...              ...  \n",
       "1540840  1504.726562  \n",
       "1540841  1504.727539  \n",
       "1540842  1504.728516  \n",
       "1540843  1504.729492  \n",
       "1540844  1504.730469  \n",
       "\n",
       "[1540845 rows x 6 columns]"
      ]
     },
     "execution_count": 6,
     "metadata": {},
     "output_type": "execute_result"
    }
   ],
   "source": [
    "df['Time_s'] = df.index * (1/1024)\n",
    "df"
   ]
  },
  {
   "cell_type": "code",
   "execution_count": 7,
   "metadata": {},
   "outputs": [
    {
     "data": {
      "image/png": "[encoded data removed]",
      "text/plain": [
       "<Figure size 432x288 with 1 Axes>"
      ]
     },
     "metadata": {
      "needs_background": "light"
     },
     "output_type": "display_data"
    }
   ],
   "source": [
    "plt.plot(df['Time_s'] * (1/60), df['CH1_5470'])\n",
    "plt.show()"
   ]
  },
  {
   "cell_type": "code",
   "execution_count": 8,
   "metadata": {},
   "outputs": [
    {
     "data": {
      "image/png": "[encoded data removed]",
      "text/plain": [
       "<Figure size 432x288 with 1 Axes>"
      ]
     },
     "metadata": {
      "needs_background": "light"
     },
     "output_type": "display_data"
    }
   ],
   "source": [
    "import converter\n",
    "df = pd.read_csv('Shimmer_5470.csv')\n",
    "preprocessor = converter.Preprocess(df)\n",
    "preprocessor.calcTime()\n",
    "df = preprocessor.movingAverage('CH1_5470')\n",
    "df['Moving Average'] = abs(df['Moving Average'])\n",
    "plt.plot(df['Time'], df['Moving Average'])\n",
    "plt.show()"
   ]
  },
  {
   "cell_type": "code",
   "execution_count": 10,
   "metadata": {},
   "outputs": [],
   "source": [
    "newDf = df[0:1000]\n",
    "newDf.to_csv('test.csv')"
   ]
  }
 ],
 "metadata": {
  "interpreter": {
   "hash": "4031c719ba9ce48f4cb14400298c232dd00e743e0a5303bd972e7b3caed7e77c"
  },
  "kernelspec": {
   "display_name": "Python 3.8.2 ('venv': venv)",
   "language": "python",
   "name": "python3"
  },
  "language_info": {
   "codemirror_mode": {
    "name": "ipython",
    "version": 3
   },
   "file_extension": ".py",
   "mimetype": "text/x-python",
   "name": "python",
   "nbconvert_exporter": "python",
   "pygments_lexer": "ipython3",
   "version": "3.8.2"
  },
  "orig_nbformat": 4
 },
 "nbformat": 4,
 "nbformat_minor": 2
}
