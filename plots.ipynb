{
 "cells": [
  {
   "cell_type": "markdown",
   "metadata": {},
   "source": [
    "# Show the data"
   ]
  },
  {
   "cell_type": "code",
   "execution_count": 7,
   "metadata": {},
   "outputs": [
    {
     "ename": "FileNotFoundError",
     "evalue": "[Errno 2] No such file or directory: 'credentials.json'",
     "output_type": "error",
     "traceback": [
      "\u001b[0;31m---------------------------------------------------------------------------\u001b[0m",
      "\u001b[0;31mFileNotFoundError\u001b[0m                         Traceback (most recent call last)",
      "\u001b[1;32m/Users/aldenmoreton/Documents/iron_handmaidens/plots.ipynb Cell 2'\u001b[0m in \u001b[0;36m<module>\u001b[0;34m\u001b[0m\n\u001b[1;32m     <a href='vscode-notebook-cell:/Users/aldenmoreton/Documents/iron_handmaidens/plots.ipynb#ch0000000?line=48'>49</a>\u001b[0m         \u001b[39mprint\u001b[39m(\u001b[39mf\u001b[39m\u001b[39m'\u001b[39m\u001b[39mAn error occurred: \u001b[39m\u001b[39m{\u001b[39;00merror\u001b[39m}\u001b[39;00m\u001b[39m'\u001b[39m)\n\u001b[1;32m     <a href='vscode-notebook-cell:/Users/aldenmoreton/Documents/iron_handmaidens/plots.ipynb#ch0000000?line=51'>52</a>\u001b[0m \u001b[39mif\u001b[39;00m \u001b[39m__name__\u001b[39m \u001b[39m==\u001b[39m \u001b[39m'\u001b[39m\u001b[39m__main__\u001b[39m\u001b[39m'\u001b[39m:\n\u001b[0;32m---> <a href='vscode-notebook-cell:/Users/aldenmoreton/Documents/iron_handmaidens/plots.ipynb#ch0000000?line=52'>53</a>\u001b[0m     main()\n",
      "\u001b[1;32m/Users/aldenmoreton/Documents/iron_handmaidens/plots.ipynb Cell 2'\u001b[0m in \u001b[0;36mmain\u001b[0;34m()\u001b[0m\n\u001b[1;32m     <a href='vscode-notebook-cell:/Users/aldenmoreton/Documents/iron_handmaidens/plots.ipynb#ch0000000?line=23'>24</a>\u001b[0m     creds\u001b[39m.\u001b[39mrefresh(Request())\n\u001b[1;32m     <a href='vscode-notebook-cell:/Users/aldenmoreton/Documents/iron_handmaidens/plots.ipynb#ch0000000?line=24'>25</a>\u001b[0m \u001b[39melse\u001b[39;00m:\n\u001b[0;32m---> <a href='vscode-notebook-cell:/Users/aldenmoreton/Documents/iron_handmaidens/plots.ipynb#ch0000000?line=25'>26</a>\u001b[0m     flow \u001b[39m=\u001b[39m InstalledAppFlow\u001b[39m.\u001b[39;49mfrom_client_secrets_file(\n\u001b[1;32m     <a href='vscode-notebook-cell:/Users/aldenmoreton/Documents/iron_handmaidens/plots.ipynb#ch0000000?line=26'>27</a>\u001b[0m         \u001b[39m'\u001b[39;49m\u001b[39mcredentials.json\u001b[39;49m\u001b[39m'\u001b[39;49m, SCOPES)\n\u001b[1;32m     <a href='vscode-notebook-cell:/Users/aldenmoreton/Documents/iron_handmaidens/plots.ipynb#ch0000000?line=27'>28</a>\u001b[0m     creds \u001b[39m=\u001b[39m flow\u001b[39m.\u001b[39mrun_local_server(port\u001b[39m=\u001b[39m\u001b[39m0\u001b[39m)\n\u001b[1;32m     <a href='vscode-notebook-cell:/Users/aldenmoreton/Documents/iron_handmaidens/plots.ipynb#ch0000000?line=28'>29</a>\u001b[0m \u001b[39m# Save the credentials for the next run\u001b[39;00m\n",
      "File \u001b[0;32m~/Documents/iron_handmaidens/venv/lib/python3.8/site-packages/google_auth_oauthlib/flow.py:201\u001b[0m, in \u001b[0;36mFlow.from_client_secrets_file\u001b[0;34m(cls, client_secrets_file, scopes, **kwargs)\u001b[0m\n\u001b[1;32m    <a href='file:///~/Documents/iron_handmaidens/venv/lib/python3.8/site-packages/google_auth_oauthlib/flow.py?line=185'>186</a>\u001b[0m \u001b[39m@classmethod\u001b[39m\n\u001b[1;32m    <a href='file:///~/Documents/iron_handmaidens/venv/lib/python3.8/site-packages/google_auth_oauthlib/flow.py?line=186'>187</a>\u001b[0m \u001b[39mdef\u001b[39;00m \u001b[39mfrom_client_secrets_file\u001b[39m(\u001b[39mcls\u001b[39m, client_secrets_file, scopes, \u001b[39m*\u001b[39m\u001b[39m*\u001b[39mkwargs):\n\u001b[1;32m    <a href='file:///~/Documents/iron_handmaidens/venv/lib/python3.8/site-packages/google_auth_oauthlib/flow.py?line=187'>188</a>\u001b[0m     \u001b[39m\"\"\"Creates a :class:`Flow` instance from a Google client secrets file.\u001b[39;00m\n\u001b[1;32m    <a href='file:///~/Documents/iron_handmaidens/venv/lib/python3.8/site-packages/google_auth_oauthlib/flow.py?line=188'>189</a>\u001b[0m \n\u001b[1;32m    <a href='file:///~/Documents/iron_handmaidens/venv/lib/python3.8/site-packages/google_auth_oauthlib/flow.py?line=189'>190</a>\u001b[0m \u001b[39m    Args:\u001b[39;00m\n\u001b[0;32m   (...)\u001b[0m\n\u001b[1;32m    <a href='file:///~/Documents/iron_handmaidens/venv/lib/python3.8/site-packages/google_auth_oauthlib/flow.py?line=198'>199</a>\u001b[0m \u001b[39m        Flow: The constructed Flow instance.\u001b[39;00m\n\u001b[1;32m    <a href='file:///~/Documents/iron_handmaidens/venv/lib/python3.8/site-packages/google_auth_oauthlib/flow.py?line=199'>200</a>\u001b[0m \u001b[39m    \"\"\"\u001b[39;00m\n\u001b[0;32m--> <a href='file:///~/Documents/iron_handmaidens/venv/lib/python3.8/site-packages/google_auth_oauthlib/flow.py?line=200'>201</a>\u001b[0m     \u001b[39mwith\u001b[39;00m \u001b[39mopen\u001b[39;49m(client_secrets_file, \u001b[39m\"\u001b[39;49m\u001b[39mr\u001b[39;49m\u001b[39m\"\u001b[39;49m) \u001b[39mas\u001b[39;00m json_file:\n\u001b[1;32m    <a href='file:///~/Documents/iron_handmaidens/venv/lib/python3.8/site-packages/google_auth_oauthlib/flow.py?line=201'>202</a>\u001b[0m         client_config \u001b[39m=\u001b[39m json\u001b[39m.\u001b[39mload(json_file)\n\u001b[1;32m    <a href='file:///~/Documents/iron_handmaidens/venv/lib/python3.8/site-packages/google_auth_oauthlib/flow.py?line=203'>204</a>\u001b[0m     \u001b[39mreturn\u001b[39;00m \u001b[39mcls\u001b[39m\u001b[39m.\u001b[39mfrom_client_config(client_config, scopes\u001b[39m=\u001b[39mscopes, \u001b[39m*\u001b[39m\u001b[39m*\u001b[39mkwargs)\n",
      "\u001b[0;31mFileNotFoundError\u001b[0m: [Errno 2] No such file or directory: 'credentials.json'"
     ]
    }
   ],
   "source": [
    "import os\n",
    "\n",
    "from google.auth.transport.requests import Request\n",
    "from google.oauth2.credentials import Credentials\n",
    "from google_auth_oauthlib.flow import InstalledAppFlow\n",
    "from googleapiclient.discovery import build\n",
    "from googleapiclient.errors import HttpError\n",
    "\n",
    "# If modifying these scopes, delete the file token.json.\n",
    "SCOPES = ['https://www.googleapis.com/auth/drive.metadata.readonly']\n",
    "\n",
    "\n",
    "def main():\n",
    "    \"\"\"Shows basic usage of the Drive v3 API.\n",
    "    Prints the names and ids of the first 10 files the user has access to.\n",
    "    \"\"\"\n",
    "    creds = None\n",
    "    # The file token.json stores the user's access and refresh tokens, and is\n",
    "    # created automatically when the authorization flow completes for the first\n",
    "    # time.\n",
    "    if os.path.exists('token.json'):\n",
    "        creds = Credentials.from_authorized_user_file('token.json', SCOPES)\n",
    "    # If there are no (valid) credentials available, let the user log in.\n",
    "    if not creds or not creds.valid:\n",
    "        if creds and creds.expired and creds.refresh_token:\n",
    "            creds.refresh(Request())\n",
    "        else:\n",
    "            flow = InstalledAppFlow.from_client_secrets_file(\n",
    "                'credentials.json', SCOPES)\n",
    "            creds = flow.run_local_server(port=0)\n",
    "        # Save the credentials for the next run\n",
    "        with open('token.json', 'w') as token:\n",
    "            token.write(creds.to_json())\n",
    "\n",
    "    try:\n",
    "        service = build('drive', 'v3', credentials=creds)\n",
    "\n",
    "        # Call the Drive v3 API\n",
    "        results = service.files().list(\n",
    "            pageSize=10, fields=\"nextPageToken, files(id, name)\").execute()\n",
    "        items = results.get('files', [])\n",
    "\n",
    "        if not items:\n",
    "            print('No files found.')\n",
    "            return\n",
    "        print('Files:')\n",
    "        for item in items:\n",
    "            print(u'{0} ({1})'.format(item['name'], item['id']))\n",
    "    except HttpError as error:\n",
    "        # TODO(developer) - Handle errors from drive API.\n",
    "        print(f'An error occurred: {error}')\n",
    "\n",
    "\n",
    "if __name__ == '__main__':\n",
    "    main()"
   ]
  }
 ],
 "metadata": {
  "interpreter": {
   "hash": "4031c719ba9ce48f4cb14400298c232dd00e743e0a5303bd972e7b3caed7e77c"
  },
  "kernelspec": {
   "display_name": "Python 3.8.2 ('venv': venv)",
   "language": "python",
   "name": "python3"
  },
  "language_info": {
   "codemirror_mode": {
    "name": "ipython",
    "version": 3
   },
   "file_extension": ".py",
   "mimetype": "text/x-python",
   "name": "python",
   "nbconvert_exporter": "python",
   "pygments_lexer": "ipython3",
   "version": "3.8.2"
  },
  "orig_nbformat": 4
 },
 "nbformat": 4,
 "nbformat_minor": 2
}
