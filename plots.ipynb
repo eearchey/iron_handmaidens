{
 "cells": [
  {
   "cell_type": "markdown",
   "metadata": {},
   "source": [
    "# Show the data"
   ]
  },
  {
   "cell_type": "code",
   "execution_count": 1,
   "metadata": {},
   "outputs": [],
   "source": [
    "import scipy.io\n",
    "import pandas as pd\n",
    "import matplotlib.pyplot as plt"
   ]
  },
  {
   "cell_type": "code",
   "execution_count": 2,
   "metadata": {},
   "outputs": [
    {
     "data": {
      "text/html": [
       "<div>\n",
       "<style scoped>\n",
       "    .dataframe tbody tr th:only-of-type {\n",
       "        vertical-align: middle;\n",
       "    }\n",
       "\n",
       "    .dataframe tbody tr th {\n",
       "        vertical-align: top;\n",
       "    }\n",
       "\n",
       "    .dataframe thead th {\n",
       "        text-align: right;\n",
       "    }\n",
       "</style>\n",
       "<table border=\"1\" class=\"dataframe\">\n",
       "  <thead>\n",
       "    <tr style=\"text-align: right;\">\n",
       "      <th></th>\n",
       "      <th>Timestamp_5470</th>\n",
       "      <th>Status_5470</th>\n",
       "      <th>CH1_5470</th>\n",
       "      <th>CH2_5470</th>\n",
       "      <th>Event_5470</th>\n",
       "    </tr>\n",
       "  </thead>\n",
       "  <tbody>\n",
       "    <tr>\n",
       "      <th>0</th>\n",
       "      <td>1.635975e+12</td>\n",
       "      <td>128.0</td>\n",
       "      <td>0.150133</td>\n",
       "      <td>2.941000</td>\n",
       "      <td>0.0</td>\n",
       "    </tr>\n",
       "    <tr>\n",
       "      <th>1</th>\n",
       "      <td>1.635975e+12</td>\n",
       "      <td>128.0</td>\n",
       "      <td>0.128256</td>\n",
       "      <td>2.938235</td>\n",
       "      <td>-1.0</td>\n",
       "    </tr>\n",
       "    <tr>\n",
       "      <th>2</th>\n",
       "      <td>1.635975e+12</td>\n",
       "      <td>128.0</td>\n",
       "      <td>0.094119</td>\n",
       "      <td>2.935110</td>\n",
       "      <td>-1.0</td>\n",
       "    </tr>\n",
       "    <tr>\n",
       "      <th>3</th>\n",
       "      <td>1.635975e+12</td>\n",
       "      <td>128.0</td>\n",
       "      <td>0.090873</td>\n",
       "      <td>2.929701</td>\n",
       "      <td>-1.0</td>\n",
       "    </tr>\n",
       "    <tr>\n",
       "      <th>4</th>\n",
       "      <td>1.635975e+12</td>\n",
       "      <td>128.0</td>\n",
       "      <td>0.092436</td>\n",
       "      <td>2.948813</td>\n",
       "      <td>-1.0</td>\n",
       "    </tr>\n",
       "    <tr>\n",
       "      <th>...</th>\n",
       "      <td>...</td>\n",
       "      <td>...</td>\n",
       "      <td>...</td>\n",
       "      <td>...</td>\n",
       "      <td>...</td>\n",
       "    </tr>\n",
       "    <tr>\n",
       "      <th>1540840</th>\n",
       "      <td>1.635976e+12</td>\n",
       "      <td>128.0</td>\n",
       "      <td>-2.207162</td>\n",
       "      <td>-1.237487</td>\n",
       "      <td>-1.0</td>\n",
       "    </tr>\n",
       "    <tr>\n",
       "      <th>1540841</th>\n",
       "      <td>1.635976e+12</td>\n",
       "      <td>128.0</td>\n",
       "      <td>-2.212331</td>\n",
       "      <td>-1.240372</td>\n",
       "      <td>-1.0</td>\n",
       "    </tr>\n",
       "    <tr>\n",
       "      <th>1540842</th>\n",
       "      <td>1.635976e+12</td>\n",
       "      <td>128.0</td>\n",
       "      <td>-2.212571</td>\n",
       "      <td>-1.244339</td>\n",
       "      <td>-1.0</td>\n",
       "    </tr>\n",
       "    <tr>\n",
       "      <th>1540843</th>\n",
       "      <td>1.635976e+12</td>\n",
       "      <td>128.0</td>\n",
       "      <td>-2.218101</td>\n",
       "      <td>-1.248906</td>\n",
       "      <td>-1.0</td>\n",
       "    </tr>\n",
       "    <tr>\n",
       "      <th>1540844</th>\n",
       "      <td>1.635976e+12</td>\n",
       "      <td>128.0</td>\n",
       "      <td>-2.215937</td>\n",
       "      <td>-1.249507</td>\n",
       "      <td>-1.0</td>\n",
       "    </tr>\n",
       "  </tbody>\n",
       "</table>\n",
       "<p>1540845 rows × 5 columns</p>\n",
       "</div>"
      ],
      "text/plain": [
       "         Timestamp_5470  Status_5470  CH1_5470  CH2_5470  Event_5470\n",
       "0          1.635975e+12        128.0  0.150133  2.941000         0.0\n",
       "1          1.635975e+12        128.0  0.128256  2.938235        -1.0\n",
       "2          1.635975e+12        128.0  0.094119  2.935110        -1.0\n",
       "3          1.635975e+12        128.0  0.090873  2.929701        -1.0\n",
       "4          1.635975e+12        128.0  0.092436  2.948813        -1.0\n",
       "...                 ...          ...       ...       ...         ...\n",
       "1540840    1.635976e+12        128.0 -2.207162 -1.237487        -1.0\n",
       "1540841    1.635976e+12        128.0 -2.212331 -1.240372        -1.0\n",
       "1540842    1.635976e+12        128.0 -2.212571 -1.244339        -1.0\n",
       "1540843    1.635976e+12        128.0 -2.218101 -1.248906        -1.0\n",
       "1540844    1.635976e+12        128.0 -2.215937 -1.249507        -1.0\n",
       "\n",
       "[1540845 rows x 5 columns]"
      ]
     },
     "execution_count": 2,
     "metadata": {},
     "output_type": "execute_result"
    }
   ],
   "source": [
    "df = pd.read_csv('test_data/participant1/A/Shimmer_5470.csv')\n",
    "df"
   ]
  },
  {
   "cell_type": "code",
   "execution_count": 3,
   "metadata": {},
   "outputs": [
    {
     "data": {
      "text/plain": [
       "[1635974621582.2644, 1635974621583.241]"
      ]
     },
     "execution_count": 3,
     "metadata": {},
     "output_type": "execute_result"
    }
   ],
   "source": [
    "list(df['Timestamp_5470'][0:2])"
   ]
  },
  {
   "cell_type": "code",
   "execution_count": 4,
   "metadata": {},
   "outputs": [
    {
     "data": {
      "text/plain": [
       "1504.8378994140626"
      ]
     },
     "execution_count": 4,
     "metadata": {},
     "output_type": "execute_result"
    }
   ],
   "source": [
    "(df['Timestamp_5470'].iat[-1] - df['Timestamp_5470'].iat[0]) / 1000"
   ]
  },
  {
   "cell_type": "code",
   "execution_count": 5,
   "metadata": {},
   "outputs": [
    {
     "data": {
      "text/html": [
       "<div>\n",
       "<style scoped>\n",
       "    .dataframe tbody tr th:only-of-type {\n",
       "        vertical-align: middle;\n",
       "    }\n",
       "\n",
       "    .dataframe tbody tr th {\n",
       "        vertical-align: top;\n",
       "    }\n",
       "\n",
       "    .dataframe thead th {\n",
       "        text-align: right;\n",
       "    }\n",
       "</style>\n",
       "<table border=\"1\" class=\"dataframe\">\n",
       "  <thead>\n",
       "    <tr style=\"text-align: right;\">\n",
       "      <th></th>\n",
       "      <th>Timestamp_5470</th>\n",
       "      <th>Status_5470</th>\n",
       "      <th>CH1_5470</th>\n",
       "      <th>CH2_5470</th>\n",
       "      <th>Event_5470</th>\n",
       "      <th>Time_s</th>\n",
       "    </tr>\n",
       "  </thead>\n",
       "  <tbody>\n",
       "    <tr>\n",
       "      <th>0</th>\n",
       "      <td>1.635975e+12</td>\n",
       "      <td>128.0</td>\n",
       "      <td>0.150133</td>\n",
       "      <td>2.941000</td>\n",
       "      <td>0.0</td>\n",
       "      <td>0.000000</td>\n",
       "    </tr>\n",
       "    <tr>\n",
       "      <th>1</th>\n",
       "      <td>1.635975e+12</td>\n",
       "      <td>128.0</td>\n",
       "      <td>0.128256</td>\n",
       "      <td>2.938235</td>\n",
       "      <td>-1.0</td>\n",
       "      <td>0.000977</td>\n",
       "    </tr>\n",
       "    <tr>\n",
       "      <th>2</th>\n",
       "      <td>1.635975e+12</td>\n",
       "      <td>128.0</td>\n",
       "      <td>0.094119</td>\n",
       "      <td>2.935110</td>\n",
       "      <td>-1.0</td>\n",
       "      <td>0.001953</td>\n",
       "    </tr>\n",
       "    <tr>\n",
       "      <th>3</th>\n",
       "      <td>1.635975e+12</td>\n",
       "      <td>128.0</td>\n",
       "      <td>0.090873</td>\n",
       "      <td>2.929701</td>\n",
       "      <td>-1.0</td>\n",
       "      <td>0.002930</td>\n",
       "    </tr>\n",
       "    <tr>\n",
       "      <th>4</th>\n",
       "      <td>1.635975e+12</td>\n",
       "      <td>128.0</td>\n",
       "      <td>0.092436</td>\n",
       "      <td>2.948813</td>\n",
       "      <td>-1.0</td>\n",
       "      <td>0.003906</td>\n",
       "    </tr>\n",
       "    <tr>\n",
       "      <th>...</th>\n",
       "      <td>...</td>\n",
       "      <td>...</td>\n",
       "      <td>...</td>\n",
       "      <td>...</td>\n",
       "      <td>...</td>\n",
       "      <td>...</td>\n",
       "    </tr>\n",
       "    <tr>\n",
       "      <th>1540840</th>\n",
       "      <td>1.635976e+12</td>\n",
       "      <td>128.0</td>\n",
       "      <td>-2.207162</td>\n",
       "      <td>-1.237487</td>\n",
       "      <td>-1.0</td>\n",
       "      <td>1504.726562</td>\n",
       "    </tr>\n",
       "    <tr>\n",
       "      <th>1540841</th>\n",
       "      <td>1.635976e+12</td>\n",
       "      <td>128.0</td>\n",
       "      <td>-2.212331</td>\n",
       "      <td>-1.240372</td>\n",
       "      <td>-1.0</td>\n",
       "      <td>1504.727539</td>\n",
       "    </tr>\n",
       "    <tr>\n",
       "      <th>1540842</th>\n",
       "      <td>1.635976e+12</td>\n",
       "      <td>128.0</td>\n",
       "      <td>-2.212571</td>\n",
       "      <td>-1.244339</td>\n",
       "      <td>-1.0</td>\n",
       "      <td>1504.728516</td>\n",
       "    </tr>\n",
       "    <tr>\n",
       "      <th>1540843</th>\n",
       "      <td>1.635976e+12</td>\n",
       "      <td>128.0</td>\n",
       "      <td>-2.218101</td>\n",
       "      <td>-1.248906</td>\n",
       "      <td>-1.0</td>\n",
       "      <td>1504.729492</td>\n",
       "    </tr>\n",
       "    <tr>\n",
       "      <th>1540844</th>\n",
       "      <td>1.635976e+12</td>\n",
       "      <td>128.0</td>\n",
       "      <td>-2.215937</td>\n",
       "      <td>-1.249507</td>\n",
       "      <td>-1.0</td>\n",
       "      <td>1504.730469</td>\n",
       "    </tr>\n",
       "  </tbody>\n",
       "</table>\n",
       "<p>1540845 rows × 6 columns</p>\n",
       "</div>"
      ],
      "text/plain": [
       "         Timestamp_5470  Status_5470  CH1_5470  CH2_5470  Event_5470  \\\n",
       "0          1.635975e+12        128.0  0.150133  2.941000         0.0   \n",
       "1          1.635975e+12        128.0  0.128256  2.938235        -1.0   \n",
       "2          1.635975e+12        128.0  0.094119  2.935110        -1.0   \n",
       "3          1.635975e+12        128.0  0.090873  2.929701        -1.0   \n",
       "4          1.635975e+12        128.0  0.092436  2.948813        -1.0   \n",
       "...                 ...          ...       ...       ...         ...   \n",
       "1540840    1.635976e+12        128.0 -2.207162 -1.237487        -1.0   \n",
       "1540841    1.635976e+12        128.0 -2.212331 -1.240372        -1.0   \n",
       "1540842    1.635976e+12        128.0 -2.212571 -1.244339        -1.0   \n",
       "1540843    1.635976e+12        128.0 -2.218101 -1.248906        -1.0   \n",
       "1540844    1.635976e+12        128.0 -2.215937 -1.249507        -1.0   \n",
       "\n",
       "              Time_s  \n",
       "0           0.000000  \n",
       "1           0.000977  \n",
       "2           0.001953  \n",
       "3           0.002930  \n",
       "4           0.003906  \n",
       "...              ...  \n",
       "1540840  1504.726562  \n",
       "1540841  1504.727539  \n",
       "1540842  1504.728516  \n",
       "1540843  1504.729492  \n",
       "1540844  1504.730469  \n",
       "\n",
       "[1540845 rows x 6 columns]"
      ]
     },
     "execution_count": 5,
     "metadata": {},
     "output_type": "execute_result"
    }
   ],
   "source": [
    "df['Time_s'] = df.index * (1/1024)\n",
    "df"
   ]
  },
  {
   "cell_type": "code",
   "execution_count": 6,
   "metadata": {},
   "outputs": [
    {
     "data": {
      "image/png": "[encoded data removed]",
      "text/plain": [
       "<Figure size 432x288 with 1 Axes>"
      ]
     },
     "metadata": {
      "needs_background": "light"
     },
     "output_type": "display_data"
    }
   ],
   "source": [
    "plt.plot(df['Time_s'] * (1/60), df['CH1_5470'])\n",
    "plt.show()"
   ]
  },
  {
   "cell_type": "code",
   "execution_count": 7,
   "metadata": {},
   "outputs": [
    {
     "data": {
      "image/png": "[encoded data removed]",
      "text/plain": [
       "<Figure size 432x288 with 1 Axes>"
      ]
     },
     "metadata": {
      "needs_background": "light"
     },
     "output_type": "display_data"
    }
   ],
   "source": [
    "import iron_handmaidens.data.src.preprocess as preprocess\n",
    "df = pd.read_csv('test_data/participant1/A/Shimmer_5470.csv')\n",
    "preprocessor = preprocess.Preprocess(df)\n",
    "preprocessor.df['Time'] = preprocessor.df.index * preprocessor.frequency\n",
    "df = preprocessor.movingAverage('CH1_5470')\n",
    "df['Moving Average'] = abs(df['Moving Average'])\n",
    "plt.plot(df['Time'], df['Moving Average'])\n",
    "plt.show()"
   ]
  },
  {
   "cell_type": "code",
   "execution_count": 8,
   "metadata": {},
   "outputs": [],
   "source": [
    "df4680 = pd.read_csv('test_data/participant1/A/Shimmer_4680.csv')\n",
    "df5470 = pd.read_csv('test_data/participant1/A/Shimmer_5470.csv')"
   ]
  },
  {
   "cell_type": "code",
   "execution_count": 9,
   "metadata": {},
   "outputs": [],
   "source": [
    "df4680['Timestamp_4680'] = df4680['Timestamp_4680'].astype(int)\n",
    "df5470['Timestamp_5470'] = df5470['Timestamp_5470'].astype(int)\n",
    "df4680 = df4680.drop_duplicates('Timestamp_4680')\n",
    "df5470 = df5470.drop_duplicates('Timestamp_5470')\n",
    "dfMerge = pd.merge(df4680, df5470, 'inner', left_on='Timestamp_4680', right_on='Timestamp_5470')"
   ]
  },
  {
   "cell_type": "code",
   "execution_count": 10,
   "metadata": {},
   "outputs": [
    {
     "data": {
      "text/html": [
       "<div>\n",
       "<style scoped>\n",
       "    .dataframe tbody tr th:only-of-type {\n",
       "        vertical-align: middle;\n",
       "    }\n",
       "\n",
       "    .dataframe tbody tr th {\n",
       "        vertical-align: top;\n",
       "    }\n",
       "\n",
       "    .dataframe thead th {\n",
       "        text-align: right;\n",
       "    }\n",
       "</style>\n",
       "<table border=\"1\" class=\"dataframe\">\n",
       "  <thead>\n",
       "    <tr style=\"text-align: right;\">\n",
       "      <th></th>\n",
       "      <th>Status_4680</th>\n",
       "      <th>CH1_4680</th>\n",
       "      <th>CH2_4680</th>\n",
       "      <th>Event_4680</th>\n",
       "      <th>Status_5470</th>\n",
       "      <th>CH1_5470</th>\n",
       "      <th>CH2_5470</th>\n",
       "      <th>Event_5470</th>\n",
       "      <th>Timestamp</th>\n",
       "    </tr>\n",
       "  </thead>\n",
       "  <tbody>\n",
       "    <tr>\n",
       "      <th>0</th>\n",
       "      <td>128.0</td>\n",
       "      <td>1.561313</td>\n",
       "      <td>1.403246</td>\n",
       "      <td>0.0</td>\n",
       "      <td>128.0</td>\n",
       "      <td>0.040749</td>\n",
       "      <td>3.071300</td>\n",
       "      <td>-1.0</td>\n",
       "      <td>1635974621639</td>\n",
       "    </tr>\n",
       "    <tr>\n",
       "      <th>1</th>\n",
       "      <td>128.0</td>\n",
       "      <td>1.595931</td>\n",
       "      <td>1.397597</td>\n",
       "      <td>-1.0</td>\n",
       "      <td>128.0</td>\n",
       "      <td>0.078492</td>\n",
       "      <td>3.081637</td>\n",
       "      <td>-1.0</td>\n",
       "      <td>1635974621640</td>\n",
       "    </tr>\n",
       "    <tr>\n",
       "      <th>2</th>\n",
       "      <td>128.0</td>\n",
       "      <td>1.622737</td>\n",
       "      <td>1.390986</td>\n",
       "      <td>-1.0</td>\n",
       "      <td>128.0</td>\n",
       "      <td>0.095080</td>\n",
       "      <td>3.113371</td>\n",
       "      <td>-1.0</td>\n",
       "      <td>1635974621641</td>\n",
       "    </tr>\n",
       "    <tr>\n",
       "      <th>3</th>\n",
       "      <td>128.0</td>\n",
       "      <td>1.627665</td>\n",
       "      <td>1.397837</td>\n",
       "      <td>-1.0</td>\n",
       "      <td>128.0</td>\n",
       "      <td>0.108783</td>\n",
       "      <td>3.110726</td>\n",
       "      <td>-1.0</td>\n",
       "      <td>1635974621642</td>\n",
       "    </tr>\n",
       "    <tr>\n",
       "      <th>4</th>\n",
       "      <td>128.0</td>\n",
       "      <td>1.640166</td>\n",
       "      <td>1.417310</td>\n",
       "      <td>-1.0</td>\n",
       "      <td>128.0</td>\n",
       "      <td>0.097605</td>\n",
       "      <td>3.077550</td>\n",
       "      <td>-1.0</td>\n",
       "      <td>1635974621643</td>\n",
       "    </tr>\n",
       "    <tr>\n",
       "      <th>...</th>\n",
       "      <td>...</td>\n",
       "      <td>...</td>\n",
       "      <td>...</td>\n",
       "      <td>...</td>\n",
       "      <td>...</td>\n",
       "      <td>...</td>\n",
       "      <td>...</td>\n",
       "      <td>...</td>\n",
       "      <td>...</td>\n",
       "    </tr>\n",
       "    <tr>\n",
       "      <th>1504593</th>\n",
       "      <td>128.0</td>\n",
       "      <td>3.534681</td>\n",
       "      <td>-0.214802</td>\n",
       "      <td>-1.0</td>\n",
       "      <td>128.0</td>\n",
       "      <td>-2.205239</td>\n",
       "      <td>-1.249988</td>\n",
       "      <td>-1.0</td>\n",
       "      <td>1635976126363</td>\n",
       "    </tr>\n",
       "    <tr>\n",
       "      <th>1504594</th>\n",
       "      <td>128.0</td>\n",
       "      <td>3.536123</td>\n",
       "      <td>-0.217327</td>\n",
       "      <td>-1.0</td>\n",
       "      <td>128.0</td>\n",
       "      <td>-2.205119</td>\n",
       "      <td>-1.250709</td>\n",
       "      <td>-1.0</td>\n",
       "      <td>1635976126364</td>\n",
       "    </tr>\n",
       "    <tr>\n",
       "      <th>1504595</th>\n",
       "      <td>128.0</td>\n",
       "      <td>3.538768</td>\n",
       "      <td>-0.217567</td>\n",
       "      <td>-1.0</td>\n",
       "      <td>128.0</td>\n",
       "      <td>-2.204277</td>\n",
       "      <td>-1.250469</td>\n",
       "      <td>-1.0</td>\n",
       "      <td>1635976126365</td>\n",
       "    </tr>\n",
       "    <tr>\n",
       "      <th>1504596</th>\n",
       "      <td>128.0</td>\n",
       "      <td>3.535643</td>\n",
       "      <td>-0.216124</td>\n",
       "      <td>-1.0</td>\n",
       "      <td>128.0</td>\n",
       "      <td>-2.208484</td>\n",
       "      <td>-1.252632</td>\n",
       "      <td>-1.0</td>\n",
       "      <td>1635976126366</td>\n",
       "    </tr>\n",
       "    <tr>\n",
       "      <th>1504597</th>\n",
       "      <td>128.0</td>\n",
       "      <td>3.539730</td>\n",
       "      <td>-0.215884</td>\n",
       "      <td>-1.0</td>\n",
       "      <td>128.0</td>\n",
       "      <td>-2.204518</td>\n",
       "      <td>-1.256840</td>\n",
       "      <td>-1.0</td>\n",
       "      <td>1635976126367</td>\n",
       "    </tr>\n",
       "  </tbody>\n",
       "</table>\n",
       "<p>1504598 rows × 9 columns</p>\n",
       "</div>"
      ],
      "text/plain": [
       "         Status_4680  CH1_4680  CH2_4680  Event_4680  Status_5470  CH1_5470  \\\n",
       "0              128.0  1.561313  1.403246         0.0        128.0  0.040749   \n",
       "1              128.0  1.595931  1.397597        -1.0        128.0  0.078492   \n",
       "2              128.0  1.622737  1.390986        -1.0        128.0  0.095080   \n",
       "3              128.0  1.627665  1.397837        -1.0        128.0  0.108783   \n",
       "4              128.0  1.640166  1.417310        -1.0        128.0  0.097605   \n",
       "...              ...       ...       ...         ...          ...       ...   \n",
       "1504593        128.0  3.534681 -0.214802        -1.0        128.0 -2.205239   \n",
       "1504594        128.0  3.536123 -0.217327        -1.0        128.0 -2.205119   \n",
       "1504595        128.0  3.538768 -0.217567        -1.0        128.0 -2.204277   \n",
       "1504596        128.0  3.535643 -0.216124        -1.0        128.0 -2.208484   \n",
       "1504597        128.0  3.539730 -0.215884        -1.0        128.0 -2.204518   \n",
       "\n",
       "         CH2_5470  Event_5470      Timestamp  \n",
       "0        3.071300        -1.0  1635974621639  \n",
       "1        3.081637        -1.0  1635974621640  \n",
       "2        3.113371        -1.0  1635974621641  \n",
       "3        3.110726        -1.0  1635974621642  \n",
       "4        3.077550        -1.0  1635974621643  \n",
       "...           ...         ...            ...  \n",
       "1504593 -1.249988        -1.0  1635976126363  \n",
       "1504594 -1.250709        -1.0  1635976126364  \n",
       "1504595 -1.250469        -1.0  1635976126365  \n",
       "1504596 -1.252632        -1.0  1635976126366  \n",
       "1504597 -1.256840        -1.0  1635976126367  \n",
       "\n",
       "[1504598 rows x 9 columns]"
      ]
     },
     "execution_count": 10,
     "metadata": {},
     "output_type": "execute_result"
    }
   ],
   "source": [
    "left, right = preprocess.Preprocess(df4680), preprocess.Preprocess(df5470)\n",
    "(left + right).df"
   ]
  },
  {
   "cell_type": "code",
   "execution_count": 20,
   "metadata": {},
   "outputs": [
    {
     "data": {
      "text/plain": [
       "1504729"
      ]
     },
     "execution_count": 20,
     "metadata": {},
     "output_type": "execute_result"
    }
   ],
   "source": [
    "len(left.df)"
   ]
  },
  {
   "cell_type": "code",
   "execution_count": 12,
   "metadata": {},
   "outputs": [],
   "source": [
    "import plotly.offline\n",
    "import plotly.express as px"
   ]
  },
  {
   "cell_type": "code",
   "execution_count": 13,
   "metadata": {},
   "outputs": [
    {
     "data": {
      "application/vnd.plotly.v1+json": {
       "config": {
        "plotlyServerURL": "https://plot.ly"
       },
       "data": [
        {
         "hovertemplate": "variable=CH1_4680<br>Timestamp_4680=%{x}<br>value=%{y}<extra></extra>",
         "legendgroup": "CH1_4680",
         "line": {
          "color": "#636efa",
          "dash": "solid"
         },
         "marker": {
          "symbol": "circle"
         },
         "mode": "lines",
         "name": "CH1_4680",
         "orientation": "v",
         "showlegend": true,
         "type": "scatter",
         "x": [
          1635974621639,
          1635974621640,
          1635974621641,
          1635974621642,
          1635974621643,
          1635974621644,
          1635974621645,
          1635974621646,
          1635974621647,
          1635974621648,
          1635974621649,
          1635974621650,
          1635974621651,
          1635974621652,
          1635974621653,
          1635974621654,
          1635974621655,
          1635974621656,
          1635974621657,
          1635974621658
         ],
         "xaxis": "x",
         "y": [
          1.5613130602812442,
          1.5959314420936237,
          1.622736647455293,
          1.6276649587549716,
          1.6401660410761087,
          1.609273943417145,
          1.510587514708938,
          1.394231286950662,
          1.3443471603807402,
          1.359011891565151,
          1.4348598044943577,
          1.508664271274917,
          1.5494129915332386,
          1.5483311671016018,
          1.5425614367995386,
          1.53631089563897,
          1.5275360974712489,
          1.5460473155237018,
          1.58463238691875,
          1.6086729298440134
         ],
         "yaxis": "y"
        },
        {
         "hovertemplate": "variable=CH2_4680<br>Timestamp_4680=%{x}<br>value=%{y}<extra></extra>",
         "legendgroup": "CH2_4680",
         "line": {
          "color": "#EF553B",
          "dash": "solid"
         },
         "marker": {
          "symbol": "circle"
         },
         "mode": "lines",
         "name": "CH2_4680",
         "orientation": "v",
         "showlegend": true,
         "type": "scatter",
         "x": [
          1635974621639,
          1635974621640,
          1635974621641,
          1635974621642,
          1635974621643,
          1635974621644,
          1635974621645,
          1635974621646,
          1635974621647,
          1635974621648,
          1635974621649,
          1635974621650,
          1635974621651,
          1635974621652,
          1635974621653,
          1635974621654,
          1635974621655,
          1635974621656,
          1635974621657,
          1635974621658
         ],
         "xaxis": "x",
         "y": [
          1.403246490547636,
          1.3975969629601992,
          1.3909858136557516,
          1.3978373683894518,
          1.4173102081589153,
          1.4215173031708364,
          1.4271668307582732,
          1.4322153447725787,
          1.4337779800627208,
          1.4393073049355314,
          1.436903250643005,
          1.4140647348640047,
          1.3931494625190253,
          1.4050495312670308,
          1.4024050715452518,
          1.405890950269415,
          1.4127425050031153,
          1.4203152760245732,
          1.429691087765426,
          1.429691087765426
         ],
         "yaxis": "y"
        }
       ],
       "layout": {
        "legend": {
         "title": {
          "text": "variable"
         },
         "tracegroupgap": 0
        },
        "margin": {
         "t": 60
        },
        "template": {
         "data": {
          "bar": [
           {
            "error_x": {
             "color": "#2a3f5f"
            },
            "error_y": {
             "color": "#2a3f5f"
            },
            "marker": {
             "line": {
              "color": "#E5ECF6",
              "width": 0.5
             },
             "pattern": {
              "fillmode": "overlay",
              "size": 10,
              "solidity": 0.2
             }
            },
            "type": "bar"
           }
          ],
          "barpolar": [
           {
            "marker": {
             "line": {
              "color": "#E5ECF6",
              "width": 0.5
             },
             "pattern": {
              "fillmode": "overlay",
              "size": 10,
              "solidity": 0.2
             }
            },
            "type": "barpolar"
           }
          ],
          "carpet": [
           {
            "aaxis": {
             "endlinecolor": "#2a3f5f",
             "gridcolor": "white",
             "linecolor": "white",
             "minorgridcolor": "white",
             "startlinecolor": "#2a3f5f"
            },
            "baxis": {
             "endlinecolor": "#2a3f5f",
             "gridcolor": "white",
             "linecolor": "white",
             "minorgridcolor": "white",
             "startlinecolor": "#2a3f5f"
            },
            "type": "carpet"
           }
          ],
          "choropleth": [
           {
            "colorbar": {
             "outlinewidth": 0,
             "ticks": ""
            },
            "type": "choropleth"
           }
          ],
          "contour": [
           {
            "colorbar": {
             "outlinewidth": 0,
             "ticks": ""
            },
            "colorscale": [
             [
              0,
              "#0d0887"
             ],
             [
              0.1111111111111111,
              "#46039f"
             ],
             [
              0.2222222222222222,
              "#7201a8"
             ],
             [
              0.3333333333333333,
              "#9c179e"
             ],
             [
              0.4444444444444444,
              "#bd3786"
             ],
             [
              0.5555555555555556,
              "#d8576b"
             ],
             [
              0.6666666666666666,
              "#ed7953"
             ],
             [
              0.7777777777777778,
              "#fb9f3a"
             ],
             [
              0.8888888888888888,
              "#fdca26"
             ],
             [
              1,
              "#f0f921"
             ]
            ],
            "type": "contour"
           }
          ],
          "contourcarpet": [
           {
            "colorbar": {
             "outlinewidth": 0,
             "ticks": ""
            },
            "type": "contourcarpet"
           }
          ],
          "heatmap": [
           {
            "colorbar": {
             "outlinewidth": 0,
             "ticks": ""
            },
            "colorscale": [
             [
              0,
              "#0d0887"
             ],
             [
              0.1111111111111111,
              "#46039f"
             ],
             [
              0.2222222222222222,
              "#7201a8"
             ],
             [
              0.3333333333333333,
              "#9c179e"
             ],
             [
              0.4444444444444444,
              "#bd3786"
             ],
             [
              0.5555555555555556,
              "#d8576b"
             ],
             [
              0.6666666666666666,
              "#ed7953"
             ],
             [
              0.7777777777777778,
              "#fb9f3a"
             ],
             [
              0.8888888888888888,
              "#fdca26"
             ],
             [
              1,
              "#f0f921"
             ]
            ],
            "type": "heatmap"
           }
          ],
          "heatmapgl": [
           {
            "colorbar": {
             "outlinewidth": 0,
             "ticks": ""
            },
            "colorscale": [
             [
              0,
              "#0d0887"
             ],
             [
              0.1111111111111111,
              "#46039f"
             ],
             [
              0.2222222222222222,
              "#7201a8"
             ],
             [
              0.3333333333333333,
              "#9c179e"
             ],
             [
              0.4444444444444444,
              "#bd3786"
             ],
             [
              0.5555555555555556,
              "#d8576b"
             ],
             [
              0.6666666666666666,
              "#ed7953"
             ],
             [
              0.7777777777777778,
              "#fb9f3a"
             ],
             [
              0.8888888888888888,
              "#fdca26"
             ],
             [
              1,
              "#f0f921"
             ]
            ],
            "type": "heatmapgl"
           }
          ],
          "histogram": [
           {
            "marker": {
             "pattern": {
              "fillmode": "overlay",
              "size": 10,
              "solidity": 0.2
             }
            },
            "type": "histogram"
           }
          ],
          "histogram2d": [
           {
            "colorbar": {
             "outlinewidth": 0,
             "ticks": ""
            },
            "colorscale": [
             [
              0,
              "#0d0887"
             ],
             [
              0.1111111111111111,
              "#46039f"
             ],
             [
              0.2222222222222222,
              "#7201a8"
             ],
             [
              0.3333333333333333,
              "#9c179e"
             ],
             [
              0.4444444444444444,
              "#bd3786"
             ],
             [
              0.5555555555555556,
              "#d8576b"
             ],
             [
              0.6666666666666666,
              "#ed7953"
             ],
             [
              0.7777777777777778,
              "#fb9f3a"
             ],
             [
              0.8888888888888888,
              "#fdca26"
             ],
             [
              1,
              "#f0f921"
             ]
            ],
            "type": "histogram2d"
           }
          ],
          "histogram2dcontour": [
           {
            "colorbar": {
             "outlinewidth": 0,
             "ticks": ""
            },
            "colorscale": [
             [
              0,
              "#0d0887"
             ],
             [
              0.1111111111111111,
              "#46039f"
             ],
             [
              0.2222222222222222,
              "#7201a8"
             ],
             [
              0.3333333333333333,
              "#9c179e"
             ],
             [
              0.4444444444444444,
              "#bd3786"
             ],
             [
              0.5555555555555556,
              "#d8576b"
             ],
             [
              0.6666666666666666,
              "#ed7953"
             ],
             [
              0.7777777777777778,
              "#fb9f3a"
             ],
             [
              0.8888888888888888,
              "#fdca26"
             ],
             [
              1,
              "#f0f921"
             ]
            ],
            "type": "histogram2dcontour"
           }
          ],
          "mesh3d": [
           {
            "colorbar": {
             "outlinewidth": 0,
             "ticks": ""
            },
            "type": "mesh3d"
           }
          ],
          "parcoords": [
           {
            "line": {
             "colorbar": {
              "outlinewidth": 0,
              "ticks": ""
             }
            },
            "type": "parcoords"
           }
          ],
          "pie": [
           {
            "automargin": true,
            "type": "pie"
           }
          ],
          "scatter": [
           {
            "marker": {
             "colorbar": {
              "outlinewidth": 0,
              "ticks": ""
             }
            },
            "type": "scatter"
           }
          ],
          "scatter3d": [
           {
            "line": {
             "colorbar": {
              "outlinewidth": 0,
              "ticks": ""
             }
            },
            "marker": {
             "colorbar": {
              "outlinewidth": 0,
              "ticks": ""
             }
            },
            "type": "scatter3d"
           }
          ],
          "scattercarpet": [
           {
            "marker": {
             "colorbar": {
              "outlinewidth": 0,
              "ticks": ""
             }
            },
            "type": "scattercarpet"
           }
          ],
          "scattergeo": [
           {
            "marker": {
             "colorbar": {
              "outlinewidth": 0,
              "ticks": ""
             }
            },
            "type": "scattergeo"
           }
          ],
          "scattergl": [
           {
            "marker": {
             "colorbar": {
              "outlinewidth": 0,
              "ticks": ""
             }
            },
            "type": "scattergl"
           }
          ],
          "scattermapbox": [
           {
            "marker": {
             "colorbar": {
              "outlinewidth": 0,
              "ticks": ""
             }
            },
            "type": "scattermapbox"
           }
          ],
          "scatterpolar": [
           {
            "marker": {
             "colorbar": {
              "outlinewidth": 0,
              "ticks": ""
             }
            },
            "type": "scatterpolar"
           }
          ],
          "scatterpolargl": [
           {
            "marker": {
             "colorbar": {
              "outlinewidth": 0,
              "ticks": ""
             }
            },
            "type": "scatterpolargl"
           }
          ],
          "scatterternary": [
           {
            "marker": {
             "colorbar": {
              "outlinewidth": 0,
              "ticks": ""
             }
            },
            "type": "scatterternary"
           }
          ],
          "surface": [
           {
            "colorbar": {
             "outlinewidth": 0,
             "ticks": ""
            },
            "colorscale": [
             [
              0,
              "#0d0887"
             ],
             [
              0.1111111111111111,
              "#46039f"
             ],
             [
              0.2222222222222222,
              "#7201a8"
             ],
             [
              0.3333333333333333,
              "#9c179e"
             ],
             [
              0.4444444444444444,
              "#bd3786"
             ],
             [
              0.5555555555555556,
              "#d8576b"
             ],
             [
              0.6666666666666666,
              "#ed7953"
             ],
             [
              0.7777777777777778,
              "#fb9f3a"
             ],
             [
              0.8888888888888888,
              "#fdca26"
             ],
             [
              1,
              "#f0f921"
             ]
            ],
            "type": "surface"
           }
          ],
          "table": [
           {
            "cells": {
             "fill": {
              "color": "#EBF0F8"
             },
             "line": {
              "color": "white"
             }
            },
            "header": {
             "fill": {
              "color": "#C8D4E3"
             },
             "line": {
              "color": "white"
             }
            },
            "type": "table"
           }
          ]
         },
         "layout": {
          "annotationdefaults": {
           "arrowcolor": "#2a3f5f",
           "arrowhead": 0,
           "arrowwidth": 1
          },
          "autotypenumbers": "strict",
          "coloraxis": {
           "colorbar": {
            "outlinewidth": 0,
            "ticks": ""
           }
          },
          "colorscale": {
           "diverging": [
            [
             0,
             "#8e0152"
            ],
            [
             0.1,
             "#c51b7d"
            ],
            [
             0.2,
             "#de77ae"
            ],
            [
             0.3,
             "#f1b6da"
            ],
            [
             0.4,
             "#fde0ef"
            ],
            [
             0.5,
             "#f7f7f7"
            ],
            [
             0.6,
             "#e6f5d0"
            ],
            [
             0.7,
             "#b8e186"
            ],
            [
             0.8,
             "#7fbc41"
            ],
            [
             0.9,
             "#4d9221"
            ],
            [
             1,
             "#276419"
            ]
           ],
           "sequential": [
            [
             0,
             "#0d0887"
            ],
            [
             0.1111111111111111,
             "#46039f"
            ],
            [
             0.2222222222222222,
             "#7201a8"
            ],
            [
             0.3333333333333333,
             "#9c179e"
            ],
            [
             0.4444444444444444,
             "#bd3786"
            ],
            [
             0.5555555555555556,
             "#d8576b"
            ],
            [
             0.6666666666666666,
             "#ed7953"
            ],
            [
             0.7777777777777778,
             "#fb9f3a"
            ],
            [
             0.8888888888888888,
             "#fdca26"
            ],
            [
             1,
             "#f0f921"
            ]
           ],
           "sequentialminus": [
            [
             0,
             "#0d0887"
            ],
            [
             0.1111111111111111,
             "#46039f"
            ],
            [
             0.2222222222222222,
             "#7201a8"
            ],
            [
             0.3333333333333333,
             "#9c179e"
            ],
            [
             0.4444444444444444,
             "#bd3786"
            ],
            [
             0.5555555555555556,
             "#d8576b"
            ],
            [
             0.6666666666666666,
             "#ed7953"
            ],
            [
             0.7777777777777778,
             "#fb9f3a"
            ],
            [
             0.8888888888888888,
             "#fdca26"
            ],
            [
             1,
             "#f0f921"
            ]
           ]
          },
          "colorway": [
           "#636efa",
           "#EF553B",
           "#00cc96",
           "#ab63fa",
           "#FFA15A",
           "#19d3f3",
           "#FF6692",
           "#B6E880",
           "#FF97FF",
           "#FECB52"
          ],
          "font": {
           "color": "#2a3f5f"
          },
          "geo": {
           "bgcolor": "white",
           "lakecolor": "white",
           "landcolor": "#E5ECF6",
           "showlakes": true,
           "showland": true,
           "subunitcolor": "white"
          },
          "hoverlabel": {
           "align": "left"
          },
          "hovermode": "closest",
          "mapbox": {
           "style": "light"
          },
          "paper_bgcolor": "white",
          "plot_bgcolor": "#E5ECF6",
          "polar": {
           "angularaxis": {
            "gridcolor": "white",
            "linecolor": "white",
            "ticks": ""
           },
           "bgcolor": "#E5ECF6",
           "radialaxis": {
            "gridcolor": "white",
            "linecolor": "white",
            "ticks": ""
           }
          },
          "scene": {
           "xaxis": {
            "backgroundcolor": "#E5ECF6",
            "gridcolor": "white",
            "gridwidth": 2,
            "linecolor": "white",
            "showbackground": true,
            "ticks": "",
            "zerolinecolor": "white"
           },
           "yaxis": {
            "backgroundcolor": "#E5ECF6",
            "gridcolor": "white",
            "gridwidth": 2,
            "linecolor": "white",
            "showbackground": true,
            "ticks": "",
            "zerolinecolor": "white"
           },
           "zaxis": {
            "backgroundcolor": "#E5ECF6",
            "gridcolor": "white",
            "gridwidth": 2,
            "linecolor": "white",
            "showbackground": true,
            "ticks": "",
            "zerolinecolor": "white"
           }
          },
          "shapedefaults": {
           "line": {
            "color": "#2a3f5f"
           }
          },
          "ternary": {
           "aaxis": {
            "gridcolor": "white",
            "linecolor": "white",
            "ticks": ""
           },
           "baxis": {
            "gridcolor": "white",
            "linecolor": "white",
            "ticks": ""
           },
           "bgcolor": "#E5ECF6",
           "caxis": {
            "gridcolor": "white",
            "linecolor": "white",
            "ticks": ""
           }
          },
          "title": {
           "x": 0.05
          },
          "xaxis": {
           "automargin": true,
           "gridcolor": "white",
           "linecolor": "white",
           "ticks": "",
           "title": {
            "standoff": 15
           },
           "zerolinecolor": "white",
           "zerolinewidth": 2
          },
          "yaxis": {
           "automargin": true,
           "gridcolor": "white",
           "linecolor": "white",
           "ticks": "",
           "title": {
            "standoff": 15
           },
           "zerolinecolor": "white",
           "zerolinewidth": 2
          }
         }
        },
        "xaxis": {
         "anchor": "y",
         "domain": [
          0,
          1
         ],
         "title": {
          "text": "Timestamp_4680"
         }
        },
        "yaxis": {
         "anchor": "x",
         "domain": [
          0,
          1
         ],
         "title": {
          "text": "value"
         }
        }
       }
      }
     },
     "metadata": {},
     "output_type": "display_data"
    }
   ],
   "source": [
    "fig = px.line(dfMerge[:20], x='Timestamp_4680', y=['CH1_4680', 'CH2_4680'])\n",
    "fig.show()"
   ]
  }
 ],
 "metadata": {
  "interpreter": {
   "hash": "4031c719ba9ce48f4cb14400298c232dd00e743e0a5303bd972e7b3caed7e77c"
  },
  "kernelspec": {
   "display_name": "Python 3.8.2 ('venv': venv)",
   "language": "python",
   "name": "python3"
  },
  "language_info": {
   "codemirror_mode": {
    "name": "ipython",
    "version": 3
   },
   "file_extension": ".py",
   "mimetype": "text/x-python",
   "name": "python",
   "nbconvert_exporter": "python",
   "pygments_lexer": "ipython3",
   "version": "3.8.2"
  },
  "orig_nbformat": 4
 },
 "nbformat": 4,
 "nbformat_minor": 2
}
