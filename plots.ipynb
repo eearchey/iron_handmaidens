{
 "cells": [
  {
   "cell_type": "markdown",
   "metadata": {},
   "source": [
    "# Show the data"
   ]
  },
  {
   "cell_type": "code",
   "execution_count": 4,
   "metadata": {},
   "outputs": [],
   "source": [
    "import scipy.io\n",
    "import pandas as pd"
   ]
  },
  {
   "cell_type": "code",
   "execution_count": 5,
   "metadata": {},
   "outputs": [
    {
     "ename": "FileNotFoundError",
     "evalue": "[Errno 2] No such file or directory: 'https://githubraw.com/eearchey/iron_handmaidens/data/Participant%20DM1/A/Shimmer_4680.mat'",
     "output_type": "error",
     "traceback": [
      "\u001b[0;31m---------------------------------------------------------------------------\u001b[0m",
      "\u001b[0;31mFileNotFoundError\u001b[0m                         Traceback (most recent call last)",
      "File \u001b[0;32m~/Documents/iron_handmaidens/venv/lib/python3.8/site-packages/scipy/io/matlab/_mio.py:39\u001b[0m, in \u001b[0;36m_open_file\u001b[0;34m(file_like, appendmat, mode)\u001b[0m\n\u001b[1;32m     <a href='file:///~/Documents/iron_handmaidens/venv/lib/python3.8/site-packages/scipy/io/matlab/_mio.py?line=37'>38</a>\u001b[0m \u001b[39mtry\u001b[39;00m:\n\u001b[0;32m---> <a href='file:///~/Documents/iron_handmaidens/venv/lib/python3.8/site-packages/scipy/io/matlab/_mio.py?line=38'>39</a>\u001b[0m     \u001b[39mreturn\u001b[39;00m \u001b[39mopen\u001b[39;49m(file_like, mode), \u001b[39mTrue\u001b[39;00m\n\u001b[1;32m     <a href='file:///~/Documents/iron_handmaidens/venv/lib/python3.8/site-packages/scipy/io/matlab/_mio.py?line=39'>40</a>\u001b[0m \u001b[39mexcept\u001b[39;00m \u001b[39mOSError\u001b[39;00m \u001b[39mas\u001b[39;00m e:\n\u001b[1;32m     <a href='file:///~/Documents/iron_handmaidens/venv/lib/python3.8/site-packages/scipy/io/matlab/_mio.py?line=40'>41</a>\u001b[0m     \u001b[39m# Probably \"not found\"\u001b[39;00m\n",
      "\u001b[0;31mFileNotFoundError\u001b[0m: [Errno 2] No such file or directory: 'https://githubraw.com/eearchey/iron_handmaidens/data/Participant%20DM1/A/Shimmer_4680.mat'",
      "\nDuring handling of the above exception, another exception occurred:\n",
      "\u001b[0;31mFileNotFoundError\u001b[0m                         Traceback (most recent call last)",
      "\u001b[1;32m/Users/aldenmoreton/Documents/iron_handmaidens/plots.ipynb Cell 3'\u001b[0m in \u001b[0;36m<module>\u001b[0;34m\u001b[0m\n\u001b[1;32m      <a href='vscode-notebook-cell:/Users/aldenmoreton/Documents/iron_handmaidens/plots.ipynb#ch0000002?line=0'>1</a>\u001b[0m mat \u001b[39m=\u001b[39m \u001b[39m'\u001b[39m\u001b[39mhttps://githubraw.com/eearchey/iron_handmaidens/data/Participant\u001b[39m\u001b[39m%\u001b[39m\u001b[39m20DM1/A/Shimmer_4680.mat\u001b[39m\u001b[39m'\u001b[39m\n\u001b[0;32m----> <a href='vscode-notebook-cell:/Users/aldenmoreton/Documents/iron_handmaidens/plots.ipynb#ch0000002?line=1'>2</a>\u001b[0m mat4680 \u001b[39m=\u001b[39m scipy\u001b[39m.\u001b[39;49mio\u001b[39m.\u001b[39;49mloadmat(mat)\n",
      "File \u001b[0;32m~/Documents/iron_handmaidens/venv/lib/python3.8/site-packages/scipy/io/matlab/_mio.py:224\u001b[0m, in \u001b[0;36mloadmat\u001b[0;34m(file_name, mdict, appendmat, **kwargs)\u001b[0m\n\u001b[1;32m     <a href='file:///~/Documents/iron_handmaidens/venv/lib/python3.8/site-packages/scipy/io/matlab/_mio.py?line=86'>87</a>\u001b[0m \u001b[39m\"\"\"\u001b[39;00m\n\u001b[1;32m     <a href='file:///~/Documents/iron_handmaidens/venv/lib/python3.8/site-packages/scipy/io/matlab/_mio.py?line=87'>88</a>\u001b[0m \u001b[39mLoad MATLAB file.\u001b[39;00m\n\u001b[1;32m     <a href='file:///~/Documents/iron_handmaidens/venv/lib/python3.8/site-packages/scipy/io/matlab/_mio.py?line=88'>89</a>\u001b[0m \n\u001b[0;32m   (...)\u001b[0m\n\u001b[1;32m    <a href='file:///~/Documents/iron_handmaidens/venv/lib/python3.8/site-packages/scipy/io/matlab/_mio.py?line=220'>221</a>\u001b[0m \u001b[39m    3.14159265+3.14159265j])\u001b[39;00m\n\u001b[1;32m    <a href='file:///~/Documents/iron_handmaidens/venv/lib/python3.8/site-packages/scipy/io/matlab/_mio.py?line=221'>222</a>\u001b[0m \u001b[39m\"\"\"\u001b[39;00m\n\u001b[1;32m    <a href='file:///~/Documents/iron_handmaidens/venv/lib/python3.8/site-packages/scipy/io/matlab/_mio.py?line=222'>223</a>\u001b[0m variable_names \u001b[39m=\u001b[39m kwargs\u001b[39m.\u001b[39mpop(\u001b[39m'\u001b[39m\u001b[39mvariable_names\u001b[39m\u001b[39m'\u001b[39m, \u001b[39mNone\u001b[39;00m)\n\u001b[0;32m--> <a href='file:///~/Documents/iron_handmaidens/venv/lib/python3.8/site-packages/scipy/io/matlab/_mio.py?line=223'>224</a>\u001b[0m \u001b[39mwith\u001b[39;00m _open_file_context(file_name, appendmat) \u001b[39mas\u001b[39;00m f:\n\u001b[1;32m    <a href='file:///~/Documents/iron_handmaidens/venv/lib/python3.8/site-packages/scipy/io/matlab/_mio.py?line=224'>225</a>\u001b[0m     MR, _ \u001b[39m=\u001b[39m mat_reader_factory(f, \u001b[39m*\u001b[39m\u001b[39m*\u001b[39mkwargs)\n\u001b[1;32m    <a href='file:///~/Documents/iron_handmaidens/venv/lib/python3.8/site-packages/scipy/io/matlab/_mio.py?line=225'>226</a>\u001b[0m     matfile_dict \u001b[39m=\u001b[39m MR\u001b[39m.\u001b[39mget_variables(variable_names)\n",
      "File \u001b[0;32m/Library/Frameworks/Python.framework/Versions/3.8/lib/python3.8/contextlib.py:113\u001b[0m, in \u001b[0;36m_GeneratorContextManager.__enter__\u001b[0;34m(self)\u001b[0m\n\u001b[1;32m    <a href='file:///Library/Frameworks/Python.framework/Versions/3.8/lib/python3.8/contextlib.py?line=110'>111</a>\u001b[0m \u001b[39mdel\u001b[39;00m \u001b[39mself\u001b[39m\u001b[39m.\u001b[39margs, \u001b[39mself\u001b[39m\u001b[39m.\u001b[39mkwds, \u001b[39mself\u001b[39m\u001b[39m.\u001b[39mfunc\n\u001b[1;32m    <a href='file:///Library/Frameworks/Python.framework/Versions/3.8/lib/python3.8/contextlib.py?line=111'>112</a>\u001b[0m \u001b[39mtry\u001b[39;00m:\n\u001b[0;32m--> <a href='file:///Library/Frameworks/Python.framework/Versions/3.8/lib/python3.8/contextlib.py?line=112'>113</a>\u001b[0m     \u001b[39mreturn\u001b[39;00m \u001b[39mnext\u001b[39;49m(\u001b[39mself\u001b[39;49m\u001b[39m.\u001b[39;49mgen)\n\u001b[1;32m    <a href='file:///Library/Frameworks/Python.framework/Versions/3.8/lib/python3.8/contextlib.py?line=113'>114</a>\u001b[0m \u001b[39mexcept\u001b[39;00m \u001b[39mStopIteration\u001b[39;00m:\n\u001b[1;32m    <a href='file:///Library/Frameworks/Python.framework/Versions/3.8/lib/python3.8/contextlib.py?line=114'>115</a>\u001b[0m     \u001b[39mraise\u001b[39;00m \u001b[39mRuntimeError\u001b[39;00m(\u001b[39m\"\u001b[39m\u001b[39mgenerator didn\u001b[39m\u001b[39m'\u001b[39m\u001b[39mt yield\u001b[39m\u001b[39m\"\u001b[39m) \u001b[39mfrom\u001b[39;00m \u001b[39mNone\u001b[39m\n",
      "File \u001b[0;32m~/Documents/iron_handmaidens/venv/lib/python3.8/site-packages/scipy/io/matlab/_mio.py:17\u001b[0m, in \u001b[0;36m_open_file_context\u001b[0;34m(file_like, appendmat, mode)\u001b[0m\n\u001b[1;32m     <a href='file:///~/Documents/iron_handmaidens/venv/lib/python3.8/site-packages/scipy/io/matlab/_mio.py?line=14'>15</a>\u001b[0m \u001b[39m@contextmanager\u001b[39m\n\u001b[1;32m     <a href='file:///~/Documents/iron_handmaidens/venv/lib/python3.8/site-packages/scipy/io/matlab/_mio.py?line=15'>16</a>\u001b[0m \u001b[39mdef\u001b[39;00m \u001b[39m_open_file_context\u001b[39m(file_like, appendmat, mode\u001b[39m=\u001b[39m\u001b[39m'\u001b[39m\u001b[39mrb\u001b[39m\u001b[39m'\u001b[39m):\n\u001b[0;32m---> <a href='file:///~/Documents/iron_handmaidens/venv/lib/python3.8/site-packages/scipy/io/matlab/_mio.py?line=16'>17</a>\u001b[0m     f, opened \u001b[39m=\u001b[39m _open_file(file_like, appendmat, mode)\n\u001b[1;32m     <a href='file:///~/Documents/iron_handmaidens/venv/lib/python3.8/site-packages/scipy/io/matlab/_mio.py?line=17'>18</a>\u001b[0m     \u001b[39mtry\u001b[39;00m:\n\u001b[1;32m     <a href='file:///~/Documents/iron_handmaidens/venv/lib/python3.8/site-packages/scipy/io/matlab/_mio.py?line=18'>19</a>\u001b[0m         \u001b[39myield\u001b[39;00m f\n",
      "File \u001b[0;32m~/Documents/iron_handmaidens/venv/lib/python3.8/site-packages/scipy/io/matlab/_mio.py:45\u001b[0m, in \u001b[0;36m_open_file\u001b[0;34m(file_like, appendmat, mode)\u001b[0m\n\u001b[1;32m     <a href='file:///~/Documents/iron_handmaidens/venv/lib/python3.8/site-packages/scipy/io/matlab/_mio.py?line=42'>43</a>\u001b[0m     \u001b[39mif\u001b[39;00m appendmat \u001b[39mand\u001b[39;00m \u001b[39mnot\u001b[39;00m file_like\u001b[39m.\u001b[39mendswith(\u001b[39m'\u001b[39m\u001b[39m.mat\u001b[39m\u001b[39m'\u001b[39m):\n\u001b[1;32m     <a href='file:///~/Documents/iron_handmaidens/venv/lib/python3.8/site-packages/scipy/io/matlab/_mio.py?line=43'>44</a>\u001b[0m         file_like \u001b[39m+\u001b[39m\u001b[39m=\u001b[39m \u001b[39m'\u001b[39m\u001b[39m.mat\u001b[39m\u001b[39m'\u001b[39m\n\u001b[0;32m---> <a href='file:///~/Documents/iron_handmaidens/venv/lib/python3.8/site-packages/scipy/io/matlab/_mio.py?line=44'>45</a>\u001b[0m     \u001b[39mreturn\u001b[39;00m \u001b[39mopen\u001b[39;49m(file_like, mode), \u001b[39mTrue\u001b[39;00m\n\u001b[1;32m     <a href='file:///~/Documents/iron_handmaidens/venv/lib/python3.8/site-packages/scipy/io/matlab/_mio.py?line=45'>46</a>\u001b[0m \u001b[39melse\u001b[39;00m:\n\u001b[1;32m     <a href='file:///~/Documents/iron_handmaidens/venv/lib/python3.8/site-packages/scipy/io/matlab/_mio.py?line=46'>47</a>\u001b[0m     \u001b[39mraise\u001b[39;00m \u001b[39mOSError\u001b[39;00m(\n\u001b[1;32m     <a href='file:///~/Documents/iron_handmaidens/venv/lib/python3.8/site-packages/scipy/io/matlab/_mio.py?line=47'>48</a>\u001b[0m         \u001b[39m'\u001b[39m\u001b[39mReader needs file name or open file-like object\u001b[39m\u001b[39m'\u001b[39m\n\u001b[1;32m     <a href='file:///~/Documents/iron_handmaidens/venv/lib/python3.8/site-packages/scipy/io/matlab/_mio.py?line=48'>49</a>\u001b[0m     ) \u001b[39mfrom\u001b[39;00m \u001b[39me\u001b[39;00m\n",
      "\u001b[0;31mFileNotFoundError\u001b[0m: [Errno 2] No such file or directory: 'https://githubraw.com/eearchey/iron_handmaidens/data/Participant%20DM1/A/Shimmer_4680.mat'"
     ]
    }
   ],
   "source": [
    "mat4680 = scipy.io.loadmat()"
   ]
  }
 ],
 "metadata": {
  "interpreter": {
   "hash": "4031c719ba9ce48f4cb14400298c232dd00e743e0a5303bd972e7b3caed7e77c"
  },
  "kernelspec": {
   "display_name": "Python 3.8.2 ('venv': venv)",
   "language": "python",
   "name": "python3"
  },
  "language_info": {
   "codemirror_mode": {
    "name": "ipython",
    "version": 3
   },
   "file_extension": ".py",
   "mimetype": "text/x-python",
   "name": "python",
   "nbconvert_exporter": "python",
   "pygments_lexer": "ipython3",
   "version": "3.8.2"
  },
  "orig_nbformat": 4
 },
 "nbformat": 4,
 "nbformat_minor": 2
}
