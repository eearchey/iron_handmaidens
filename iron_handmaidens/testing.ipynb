{
 "cells": [
  {
   "cell_type": "code",
   "execution_count": 1,
   "metadata": {},
   "outputs": [],
   "source": [
    "import pandas as pd\n",
    "from data.src.emg import EMGData"
   ]
  },
  {
   "cell_type": "code",
   "execution_count": 2,
   "metadata": {},
   "outputs": [],
   "source": [
    "tags = {'channels': ['CH1_4680', 'CH2_4680'], 'time': 'Timestamp_4680', 'event': 'Event_4680'}\n",
    "data = EMGData.read_csv('/Users/aldenmoreton/Documents/iron_handmaidens/test_data/participant1/A/Shimmer_4680.csv', **tags)"
   ]
  },
  {
   "cell_type": "code",
   "execution_count": 3,
   "metadata": {},
   "outputs": [],
   "source": [
    "df = pd.read_csv('/Users/aldenmoreton/Documents/iron_handmaidens/test_data/participant1/A/Shimmer_4680.csv')"
   ]
  },
  {
   "cell_type": "code",
   "execution_count": 5,
   "metadata": {},
   "outputs": [
    {
     "data": {
      "text/plain": [
       "Timestamp_4680           float64\n",
       "Status_4680              float64\n",
       "CH1_4680                 float64\n",
       "CH2_4680                 float64\n",
       "Event_4680               float64\n",
       "Elapse (s)               float64\n",
       "Moving Average 1_4680    float64\n",
       "Moving Average 2_4680    float64\n",
       "RMS 1_4680               float64\n",
       "RMS 2_4680               float64\n",
       "dtype: object"
      ]
     },
     "execution_count": 5,
     "metadata": {},
     "output_type": "execute_result"
    }
   ],
   "source": [
    "data.preprocess().df.dtypes"
   ]
  }
 ],
 "metadata": {
  "interpreter": {
   "hash": "5df7380427511115d4afa09514d7aa6cf113ad035039f5050d5e49cca92d2fc9"
  },
  "kernelspec": {
   "display_name": "Python 3.8.2 ('.venv': venv)",
   "language": "python",
   "name": "python3"
  },
  "language_info": {
   "codemirror_mode": {
    "name": "ipython",
    "version": 3
   },
   "file_extension": ".py",
   "mimetype": "text/x-python",
   "name": "python",
   "nbconvert_exporter": "python",
   "pygments_lexer": "ipython3",
   "version": "3.8.2"
  },
  "orig_nbformat": 4
 },
 "nbformat": 4,
 "nbformat_minor": 2
}
