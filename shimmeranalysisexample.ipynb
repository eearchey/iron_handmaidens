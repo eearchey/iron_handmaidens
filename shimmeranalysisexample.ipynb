{
 "cells": [
  {
   "cell_type": "markdown",
   "metadata": {},
   "source": [
    "# [Original](https://github.com/htil/PhysioGo/blob/818a294424cc3e4d205da73573976957cec8f5ac/ShimmerAnalysis%20Sample.ipynb)"
   ]
  },
  {
   "cell_type": "code",
   "execution_count": null,
   "metadata": {},
   "outputs": [],
   "source": [
    "from PhysioAnalyze import Study\n",
    "from PhysioVisualize import plotBasic, plotMulti\n",
    "from PhysioGoDSP import butter_lowpass, rectify, extractWindows, getMovingAverage, getRMSEnvelope\n",
    "import numpy as np"
   ]
  },
  {
   "cell_type": "code",
   "execution_count": null,
   "metadata": {},
   "outputs": [],
   "source": [
    "# Create Physio Study\n",
    "sFreq = 512\n",
    "\n",
    "study = Study(2, \"emg\", sFreq)\n",
    "\n",
    "# Read raw csv file\n",
    "\n",
    "emgData = study.readFileOriginal(\"data/SampleEMG.csv\", \"\\t\", 2)\n",
    "\n",
    "#emgData = study.readFileOriginal(\"data/shimmercalibrated.csv\", \"\\t\", 2)\n",
    "\n",
    "# Transpose, remove timestamps (index channel 1 and 2), convert to float\n",
    "emgData = emgData.T[2:4].astype(np.float)\n",
    "study.updateRaw(emgData)\n",
    "\n",
    "data, times = study.getEpoch(0, 30)\n",
    "\n",
    "channel_1 = data[0]\n",
    "\n",
    "# remove the mean\n",
    "mean = np.mean(channel_1)\n",
    "\n",
    "channel_1 = mean - channel_1 \n",
    "\n",
    "# rectify signal (Absolute Value)\n",
    "rectifiedSignal1 = rectify(channel_1)\n",
    "\n",
    "# Moving Average\n",
    "movingAvg = getMovingAverage(rectifiedSignal1, times, 0.05, sFreq, 0.95)\n",
    "\n",
    "#RMS \n",
    "rmsEnvelope = getRMSEnvelope(rectifiedSignal1, times, 0.05, sFreq, 0.95)\n",
    "\n",
    "# Butter\n",
    "filteredData = butter_lowpass(rectifiedSignal1, 3, sFreq, order=2)\n",
    "\n",
    "plotMulti([rectifiedSignal1, movingAvg, rmsEnvelope, filteredData], ['Channel 1', 'Moving Average', \"RMS\", \"Butter (5Hz)\"], times, [8.3, 6])\n",
    "\n",
    "\n",
    "\n",
    "\n",
    "\n",
    "#channel_2 = data[1]\n",
    "\n",
    "#plotMulti([channel_2], ['Channel 2'], times, [8.3, 6])\n",
    "\n",
    "\n",
    "\n",
    "#study.raw.plot(duration=120)"
   ]
  }
 ],
 "metadata": {
  "language_info": {
   "name": "python"
  },
  "orig_nbformat": 4
 },
 "nbformat": 4,
 "nbformat_minor": 2
}
